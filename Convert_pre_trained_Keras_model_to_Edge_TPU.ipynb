{
  "nbformat": 4,
  "nbformat_minor": 0,
  "metadata": {
    "colab": {
      "name": "Convert pre-trained Keras model to Edge TPU.ipynb",
      "provenance": [],
      "collapsed_sections": []
    },
    "kernelspec": {
      "name": "python3",
      "display_name": "Python 3"
    },
    "language_info": {
      "name": "python"
    }
  },
  "cells": [
    {
      "cell_type": "code",
      "metadata": {
        "colab": {
          "base_uri": "https://localhost:8080/",
          "height": 1000
        },
        "id": "ipm8Bp-nTGRx",
        "outputId": "c3347d77-7236-45d9-f699-2239d3fdb796"
      },
      "source": [
        "!pip install 'h5py==2.10.0' --force-reinstall\n",
        "!pip install tensorflow-gpu==1.15\n",
        "\n",
        "!curl https://packages.cloud.google.com/apt/doc/apt-key.gpg | sudo apt-key add -\n",
        "\n",
        "!echo \"deb https://packages.cloud.google.com/apt coral-edgetpu-stable main\" | sudo tee /etc/apt/sources.list.d/coral-edgetpu.list\n",
        "\n",
        "!sudo apt-get update\n",
        "\n",
        "!sudo apt-get install edgetpu-compiler\n"
      ],
      "execution_count": 1,
      "outputs": [
        {
          "output_type": "stream",
          "text": [
            "Collecting h5py==2.10.0\n",
            "  Downloading h5py-2.10.0-cp37-cp37m-manylinux1_x86_64.whl (2.9 MB)\n",
            "\u001b[K     |████████████████████████████████| 2.9 MB 7.7 MB/s \n",
            "\u001b[?25hCollecting numpy>=1.7\n",
            "  Downloading numpy-1.21.1-cp37-cp37m-manylinux_2_12_x86_64.manylinux2010_x86_64.whl (15.7 MB)\n",
            "\u001b[K     |████████████████████████████████| 15.7 MB 75 kB/s \n",
            "\u001b[?25hCollecting six\n",
            "  Downloading six-1.16.0-py2.py3-none-any.whl (11 kB)\n",
            "Installing collected packages: six, numpy, h5py\n",
            "  Attempting uninstall: six\n",
            "    Found existing installation: six 1.15.0\n",
            "    Uninstalling six-1.15.0:\n",
            "      Successfully uninstalled six-1.15.0\n",
            "  Attempting uninstall: numpy\n",
            "    Found existing installation: numpy 1.19.5\n",
            "    Uninstalling numpy-1.19.5:\n",
            "      Successfully uninstalled numpy-1.19.5\n",
            "  Attempting uninstall: h5py\n",
            "    Found existing installation: h5py 3.1.0\n",
            "    Uninstalling h5py-3.1.0:\n",
            "      Successfully uninstalled h5py-3.1.0\n",
            "\u001b[31mERROR: pip's dependency resolver does not currently take into account all the packages that are installed. This behaviour is the source of the following dependency conflicts.\n",
            "tensorflow 2.5.0 requires h5py~=3.1.0, but you have h5py 2.10.0 which is incompatible.\n",
            "tensorflow 2.5.0 requires numpy~=1.19.2, but you have numpy 1.21.1 which is incompatible.\n",
            "tensorflow 2.5.0 requires six~=1.15.0, but you have six 1.16.0 which is incompatible.\n",
            "google-colab 1.0.0 requires six~=1.15.0, but you have six 1.16.0 which is incompatible.\n",
            "datascience 0.10.6 requires folium==0.2.1, but you have folium 0.8.3 which is incompatible.\n",
            "albumentations 0.1.12 requires imgaug<0.2.7,>=0.2.5, but you have imgaug 0.2.9 which is incompatible.\u001b[0m\n",
            "Successfully installed h5py-2.10.0 numpy-1.21.1 six-1.16.0\n"
          ],
          "name": "stdout"
        },
        {
          "output_type": "display_data",
          "data": {
            "application/vnd.colab-display-data+json": {
              "pip_warning": {
                "packages": [
                  "numpy",
                  "six"
                ]
              }
            }
          },
          "metadata": {
            "tags": []
          }
        },
        {
          "output_type": "stream",
          "text": [
            "Collecting tensorflow-gpu==1.15\n",
            "  Downloading tensorflow_gpu-1.15.0-cp37-cp37m-manylinux2010_x86_64.whl (411.5 MB)\n",
            "\u001b[K     |████████████████████████████████| 411.5 MB 8.0 kB/s \n",
            "\u001b[?25hRequirement already satisfied: termcolor>=1.1.0 in /usr/local/lib/python3.7/dist-packages (from tensorflow-gpu==1.15) (1.1.0)\n",
            "Requirement already satisfied: wrapt>=1.11.1 in /usr/local/lib/python3.7/dist-packages (from tensorflow-gpu==1.15) (1.12.1)\n",
            "Requirement already satisfied: google-pasta>=0.1.6 in /usr/local/lib/python3.7/dist-packages (from tensorflow-gpu==1.15) (0.2.0)\n",
            "Requirement already satisfied: numpy<2.0,>=1.16.0 in /usr/local/lib/python3.7/dist-packages (from tensorflow-gpu==1.15) (1.21.1)\n",
            "Requirement already satisfied: astor>=0.6.0 in /usr/local/lib/python3.7/dist-packages (from tensorflow-gpu==1.15) (0.8.1)\n",
            "Requirement already satisfied: opt-einsum>=2.3.2 in /usr/local/lib/python3.7/dist-packages (from tensorflow-gpu==1.15) (3.3.0)\n",
            "Collecting keras-applications>=1.0.8\n",
            "  Downloading Keras_Applications-1.0.8-py3-none-any.whl (50 kB)\n",
            "\u001b[K     |████████████████████████████████| 50 kB 7.4 MB/s \n",
            "\u001b[?25hRequirement already satisfied: keras-preprocessing>=1.0.5 in /usr/local/lib/python3.7/dist-packages (from tensorflow-gpu==1.15) (1.1.2)\n",
            "Collecting gast==0.2.2\n",
            "  Downloading gast-0.2.2.tar.gz (10 kB)\n",
            "Requirement already satisfied: grpcio>=1.8.6 in /usr/local/lib/python3.7/dist-packages (from tensorflow-gpu==1.15) (1.34.1)\n",
            "Requirement already satisfied: six>=1.10.0 in /usr/local/lib/python3.7/dist-packages (from tensorflow-gpu==1.15) (1.16.0)\n",
            "Collecting tensorboard<1.16.0,>=1.15.0\n",
            "  Downloading tensorboard-1.15.0-py3-none-any.whl (3.8 MB)\n",
            "\u001b[K     |████████████████████████████████| 3.8 MB 39.7 MB/s \n",
            "\u001b[?25hCollecting tensorflow-estimator==1.15.1\n",
            "  Downloading tensorflow_estimator-1.15.1-py2.py3-none-any.whl (503 kB)\n",
            "\u001b[K     |████████████████████████████████| 503 kB 43.9 MB/s \n",
            "\u001b[?25hRequirement already satisfied: protobuf>=3.6.1 in /usr/local/lib/python3.7/dist-packages (from tensorflow-gpu==1.15) (3.17.3)\n",
            "Requirement already satisfied: wheel>=0.26 in /usr/local/lib/python3.7/dist-packages (from tensorflow-gpu==1.15) (0.36.2)\n",
            "Requirement already satisfied: absl-py>=0.7.0 in /usr/local/lib/python3.7/dist-packages (from tensorflow-gpu==1.15) (0.12.0)\n",
            "Requirement already satisfied: h5py in /usr/local/lib/python3.7/dist-packages (from keras-applications>=1.0.8->tensorflow-gpu==1.15) (2.10.0)\n",
            "Requirement already satisfied: werkzeug>=0.11.15 in /usr/local/lib/python3.7/dist-packages (from tensorboard<1.16.0,>=1.15.0->tensorflow-gpu==1.15) (1.0.1)\n",
            "Requirement already satisfied: markdown>=2.6.8 in /usr/local/lib/python3.7/dist-packages (from tensorboard<1.16.0,>=1.15.0->tensorflow-gpu==1.15) (3.3.4)\n",
            "Requirement already satisfied: setuptools>=41.0.0 in /usr/local/lib/python3.7/dist-packages (from tensorboard<1.16.0,>=1.15.0->tensorflow-gpu==1.15) (57.2.0)\n",
            "Requirement already satisfied: importlib-metadata in /usr/local/lib/python3.7/dist-packages (from markdown>=2.6.8->tensorboard<1.16.0,>=1.15.0->tensorflow-gpu==1.15) (4.6.1)\n",
            "Requirement already satisfied: typing-extensions>=3.6.4 in /usr/local/lib/python3.7/dist-packages (from importlib-metadata->markdown>=2.6.8->tensorboard<1.16.0,>=1.15.0->tensorflow-gpu==1.15) (3.7.4.3)\n",
            "Requirement already satisfied: zipp>=0.5 in /usr/local/lib/python3.7/dist-packages (from importlib-metadata->markdown>=2.6.8->tensorboard<1.16.0,>=1.15.0->tensorflow-gpu==1.15) (3.5.0)\n",
            "Building wheels for collected packages: gast\n",
            "  Building wheel for gast (setup.py) ... \u001b[?25l\u001b[?25hdone\n",
            "  Created wheel for gast: filename=gast-0.2.2-py3-none-any.whl size=7553 sha256=2e35864943aac6c2d6ccbf8c1b5ab6d22319f11a60dc910f460fae7e0be00775\n",
            "  Stored in directory: /root/.cache/pip/wheels/21/7f/02/420f32a803f7d0967b48dd823da3f558c5166991bfd204eef3\n",
            "Successfully built gast\n",
            "Installing collected packages: tensorflow-estimator, tensorboard, keras-applications, gast, tensorflow-gpu\n",
            "  Attempting uninstall: tensorflow-estimator\n",
            "    Found existing installation: tensorflow-estimator 2.5.0\n",
            "    Uninstalling tensorflow-estimator-2.5.0:\n",
            "      Successfully uninstalled tensorflow-estimator-2.5.0\n",
            "  Attempting uninstall: tensorboard\n",
            "    Found existing installation: tensorboard 2.5.0\n",
            "    Uninstalling tensorboard-2.5.0:\n",
            "      Successfully uninstalled tensorboard-2.5.0\n",
            "  Attempting uninstall: gast\n",
            "    Found existing installation: gast 0.4.0\n",
            "    Uninstalling gast-0.4.0:\n",
            "      Successfully uninstalled gast-0.4.0\n",
            "\u001b[31mERROR: pip's dependency resolver does not currently take into account all the packages that are installed. This behaviour is the source of the following dependency conflicts.\n",
            "tensorflow 2.5.0 requires gast==0.4.0, but you have gast 0.2.2 which is incompatible.\n",
            "tensorflow 2.5.0 requires h5py~=3.1.0, but you have h5py 2.10.0 which is incompatible.\n",
            "tensorflow 2.5.0 requires numpy~=1.19.2, but you have numpy 1.21.1 which is incompatible.\n",
            "tensorflow 2.5.0 requires six~=1.15.0, but you have six 1.16.0 which is incompatible.\n",
            "tensorflow 2.5.0 requires tensorboard~=2.5, but you have tensorboard 1.15.0 which is incompatible.\n",
            "tensorflow 2.5.0 requires tensorflow-estimator<2.6.0,>=2.5.0rc0, but you have tensorflow-estimator 1.15.1 which is incompatible.\n",
            "tensorflow-probability 0.13.0 requires gast>=0.3.2, but you have gast 0.2.2 which is incompatible.\u001b[0m\n",
            "Successfully installed gast-0.2.2 keras-applications-1.0.8 tensorboard-1.15.0 tensorflow-estimator-1.15.1 tensorflow-gpu-1.15.0\n",
            "  % Total    % Received % Xferd  Average Speed   Time    Time     Time  Current\n",
            "                                 Dload  Upload   Total   Spent    Left  Speed\n",
            "100  2537  100  2537    0     0  68567      0 --:--:-- --:--:-- --:--:-- 68567\n",
            "OK\n",
            "deb https://packages.cloud.google.com/apt coral-edgetpu-stable main\n",
            "Ign:1 https://developer.download.nvidia.com/compute/cuda/repos/ubuntu1804/x86_64  InRelease\n",
            "Get:2 https://cloud.r-project.org/bin/linux/ubuntu bionic-cran40/ InRelease [3,626 B]\n",
            "Ign:3 https://developer.download.nvidia.com/compute/machine-learning/repos/ubuntu1804/x86_64  InRelease\n",
            "Get:4 https://developer.download.nvidia.com/compute/cuda/repos/ubuntu1804/x86_64  Release [697 B]\n",
            "Hit:5 https://developer.download.nvidia.com/compute/machine-learning/repos/ubuntu1804/x86_64  Release\n",
            "Get:6 https://developer.download.nvidia.com/compute/cuda/repos/ubuntu1804/x86_64  Release.gpg [836 B]\n",
            "Get:8 http://security.ubuntu.com/ubuntu bionic-security InRelease [88.7 kB]\n",
            "Get:9 http://ppa.launchpad.net/c2d4u.team/c2d4u4.0+/ubuntu bionic InRelease [15.9 kB]\n",
            "Hit:10 http://archive.ubuntu.com/ubuntu bionic InRelease\n",
            "Ign:11 https://developer.download.nvidia.com/compute/cuda/repos/ubuntu1804/x86_64  Packages\n",
            "Get:11 https://developer.download.nvidia.com/compute/cuda/repos/ubuntu1804/x86_64  Packages [680 kB]\n",
            "Get:12 http://archive.ubuntu.com/ubuntu bionic-updates InRelease [88.7 kB]\n",
            "Hit:13 http://ppa.launchpad.net/cran/libgit2/ubuntu bionic InRelease\n",
            "Get:14 http://security.ubuntu.com/ubuntu bionic-security/main amd64 Packages [2,257 kB]\n",
            "Get:15 http://archive.ubuntu.com/ubuntu bionic-backports InRelease [74.6 kB]\n",
            "Hit:16 http://ppa.launchpad.net/deadsnakes/ppa/ubuntu bionic InRelease\n",
            "Get:17 http://archive.ubuntu.com/ubuntu bionic-updates/restricted amd64 Packages [537 kB]\n",
            "Get:18 http://security.ubuntu.com/ubuntu bionic-security/universe amd64 Packages [1,420 kB]\n",
            "Get:19 http://ppa.launchpad.net/graphics-drivers/ppa/ubuntu bionic InRelease [21.3 kB]\n",
            "Get:20 http://security.ubuntu.com/ubuntu bionic-security/restricted amd64 Packages [505 kB]\n",
            "Get:21 http://security.ubuntu.com/ubuntu bionic-security/multiverse amd64 Packages [26.7 kB]\n",
            "Get:22 http://archive.ubuntu.com/ubuntu bionic-updates/main amd64 Packages [2,693 kB]\n",
            "Get:23 http://ppa.launchpad.net/c2d4u.team/c2d4u4.0+/ubuntu bionic/main Sources [1,785 kB]\n",
            "Get:24 http://archive.ubuntu.com/ubuntu bionic-updates/universe amd64 Packages [2,194 kB]\n",
            "Get:25 http://archive.ubuntu.com/ubuntu bionic-updates/multiverse amd64 Packages [33.6 kB]\n",
            "Get:26 http://ppa.launchpad.net/c2d4u.team/c2d4u4.0+/ubuntu bionic/main amd64 Packages [913 kB]\n",
            "Get:27 http://ppa.launchpad.net/graphics-drivers/ppa/ubuntu bionic/main amd64 Packages [44.1 kB]\n",
            "Get:28 https://packages.cloud.google.com/apt coral-edgetpu-stable InRelease [6,722 B]\n",
            "Ign:29 https://packages.cloud.google.com/apt coral-edgetpu-stable/main amd64 Packages\n",
            "Get:29 https://packages.cloud.google.com/apt coral-edgetpu-stable/main amd64 Packages [2,327 B]\n",
            "Fetched 13.4 MB in 6s (2,202 kB/s)\n",
            "Reading package lists... Done\n",
            "Reading package lists... Done\n",
            "Building dependency tree       \n",
            "Reading state information... Done\n",
            "The following NEW packages will be installed:\n",
            "  edgetpu-compiler\n",
            "0 upgraded, 1 newly installed, 0 to remove and 90 not upgraded.\n",
            "Need to get 7,913 kB of archives.\n",
            "After this operation, 31.2 MB of additional disk space will be used.\n",
            "Get:1 https://packages.cloud.google.com/apt coral-edgetpu-stable/main amd64 edgetpu-compiler amd64 16.0 [7,913 kB]\n",
            "Fetched 7,913 kB in 3s (2,821 kB/s)\n",
            "debconf: unable to initialize frontend: Dialog\n",
            "debconf: (No usable dialog-like program is installed, so the dialog based frontend cannot be used. at /usr/share/perl5/Debconf/FrontEnd/Dialog.pm line 76, <> line 1.)\n",
            "debconf: falling back to frontend: Readline\n",
            "debconf: unable to initialize frontend: Readline\n",
            "debconf: (This frontend requires a controlling tty.)\n",
            "debconf: falling back to frontend: Teletype\n",
            "dpkg-preconfigure: unable to re-open stdin: \n",
            "Selecting previously unselected package edgetpu-compiler.\n",
            "(Reading database ... 160837 files and directories currently installed.)\n",
            "Preparing to unpack .../edgetpu-compiler_16.0_amd64.deb ...\n",
            "Unpacking edgetpu-compiler (16.0) ...\n",
            "Setting up edgetpu-compiler (16.0) ...\n",
            "Processing triggers for libc-bin (2.27-3ubuntu1.2) ...\n",
            "/sbin/ldconfig.real: /usr/local/lib/python3.7/dist-packages/ideep4py/lib/libmkldnn.so.0 is not a symbolic link\n",
            "\n"
          ],
          "name": "stdout"
        }
      ]
    },
    {
      "cell_type": "code",
      "metadata": {
        "id": "zAf514hDTq_d"
      },
      "source": [
        "import numpy as np\n",
        "import tensorflow as tf\n",
        "from tensorflow.keras.applications import DenseNet121, DenseNet169, DenseNet201, \\\n",
        "  InceptionResNetV2, InceptionV3, MobileNet, MobileNetV2, NASNetLarge, NASNetMobile,\\\n",
        "  ResNet101, ResNet101V2, ResNet152, ResNet152V2, ResNet50, ResNet50V2, \\\n",
        "  VGG16, VGG19, Xception \n",
        "import os\n",
        "from functools import partial"
      ],
      "execution_count": 15,
      "outputs": []
    },
    {
      "cell_type": "code",
      "metadata": {
        "colab": {
          "base_uri": "https://localhost:8080/"
        },
        "id": "dByHjV94CI3g",
        "outputId": "708ad279-50c6-4955-8cba-3118e077db65"
      },
      "source": [
        "def representative_data_gen(input_shape):\n",
        "  for i in range(100):\n",
        "    yield [np.random.random((1,)+input_shape).astype(np.float32)]\n",
        "\n",
        "def testEdgeTPUCompilation(modelGenerationFunction, fn=\"test\"):\n",
        "  # Load model and save as h5 file\n",
        "  m = modelGenerationFunction()\n",
        "\n",
        "  if fn is None:\n",
        "    fn = m.name\n",
        "\n",
        "  print(f\"Model name: {fn}\")\n",
        "\n",
        "  input_shape = m.layers[0].input_shape[0][1:]\n",
        "  print(f\"Input shape: \", input_shape)\n",
        "  m.save(fn+\".h5\")\n",
        "\n",
        "  rdg = partial(representative_data_gen, input_shape=input_shape)\n",
        "\n",
        "  # Compile to TFLITE\n",
        "  converter = tf.lite.TFLiteConverter.from_keras_model_file(fn+\".h5\")\n",
        "  converter.optimizations = [tf.lite.Optimize.DEFAULT]\n",
        "  converter.representative_dataset = rdg\n",
        "  converter.inference_input_type = tf.uint8\n",
        "  converter.inference_output_type = tf.uint8\n",
        "  tflite_model = converter.convert()\n",
        "\n",
        "  # Save the model.\n",
        "  with open(fn+\".tflite\", 'wb') as f:\n",
        "    f.write(tflite_model)\n",
        "\n",
        "  # Compile to Edge TPU\n",
        "  edge_log = os.popen(f\"edgetpu_compiler {fn}.tflite\").read()\n",
        "  \n",
        "  with open(f\"{fn}_edgetpu_compilation.log\",\"w+\") as fp:\n",
        "    fp.write(edge_log)\n",
        "    print(edge_log)\n",
        "\n",
        "  # Load log\n",
        "  with open(f\"{fn}_edgetpu.log\") as fp:\n",
        "    log = fp.read()\n",
        "    print(log)\n",
        "\n",
        "%time testEdgeTPUCompilation(MobileNetV2, None)"
      ],
      "execution_count": 14,
      "outputs": [
        {
          "output_type": "stream",
          "text": [
            "Model name: mobilenetv2_1.00_224\n",
            "Input shape\n",
            "WARNING:tensorflow:No training configuration found in save file: the model was *not* compiled. Compile it manually.\n",
            "INFO:tensorflow:Froze 262 variables.\n",
            "INFO:tensorflow:Converted 262 variables to const ops.\n",
            "Edge TPU Compiler version 16.0.384591198\n",
            "Started a compilation timeout timer of 180 seconds.\n",
            "\n",
            "Model compiled successfully in 1297 ms.\n",
            "\n",
            "Input model: mobilenetv2_1.00_224.tflite\n",
            "Input size: 3.80MiB\n",
            "Output model: mobilenetv2_1.00_224_edgetpu.tflite\n",
            "Output size: 4.06MiB\n",
            "On-chip memory used for caching model parameters: 3.88MiB\n",
            "On-chip memory remaining for caching model parameters: 3.81MiB\n",
            "Off-chip memory used for streaming uncached model parameters: 0.00B\n",
            "Number of Edge TPU subgraphs: 1\n",
            "Total number of operations: 72\n",
            "Operation log: mobilenetv2_1.00_224_edgetpu.log\n",
            "See the operation log file for individual operation details.\n",
            "Compilation child process completed within timeout period.\n",
            "Compilation succeeded! \n",
            "\n",
            "Edge TPU Compiler version 16.0.384591198\n",
            "Input: mobilenetv2_1.00_224.tflite\n",
            "Output: mobilenetv2_1.00_224_edgetpu.tflite\n",
            "\n",
            "Operator                       Count      Status\n",
            "\n",
            "QUANTIZE                       2          Mapped to Edge TPU\n",
            "DEPTHWISE_CONV_2D              17         Mapped to Edge TPU\n",
            "FULLY_CONNECTED                1          Mapped to Edge TPU\n",
            "CONV_2D                        35         Mapped to Edge TPU\n",
            "MEAN                           1          Mapped to Edge TPU\n",
            "PAD                            5          Mapped to Edge TPU\n",
            "SOFTMAX                        1          Mapped to Edge TPU\n",
            "ADD                            10         Mapped to Edge TPU\n",
            "\n",
            "CPU times: user 34.3 s, sys: 910 ms, total: 35.2 s\n",
            "Wall time: 36.6 s\n"
          ],
          "name": "stdout"
        }
      ]
    },
    {
      "cell_type": "code",
      "metadata": {
        "id": "UZ4Zm-RfhMrh",
        "colab": {
          "base_uri": "https://localhost:8080/"
        },
        "outputId": "40fc8a69-a2f6-4ec8-e1dd-d2bbd10dce3b"
      },
      "source": [
        "%time testEdgeTPUCompilation(MobileNet, None)"
      ],
      "execution_count": 16,
      "outputs": [
        {
          "output_type": "stream",
          "text": [
            "Downloading data from https://github.com/fchollet/deep-learning-models/releases/download/v0.6/mobilenet_1_0_224_tf.h5\n",
            "17227776/17225924 [==============================] - 0s 0us/step\n",
            "Model name: mobilenet_1.00_224\n",
            "Input shape\n",
            "WARNING:tensorflow:No training configuration found in save file: the model was *not* compiled. Compile it manually.\n",
            "INFO:tensorflow:Froze 137 variables.\n",
            "INFO:tensorflow:Converted 137 variables to const ops.\n",
            "Edge TPU Compiler version 16.0.384591198\n",
            "Started a compilation timeout timer of 180 seconds.\n",
            "\n",
            "Model compiled successfully in 1170 ms.\n",
            "\n",
            "Input model: mobilenet_1.00_224.tflite\n",
            "Input size: 4.35MiB\n",
            "Output model: mobilenet_1.00_224_edgetpu.tflite\n",
            "Output size: 4.46MiB\n",
            "On-chip memory used for caching model parameters: 4.30MiB\n",
            "On-chip memory remaining for caching model parameters: 3.40MiB\n",
            "Off-chip memory used for streaming uncached model parameters: 0.00B\n",
            "Number of Edge TPU subgraphs: 1\n",
            "Total number of operations: 39\n",
            "Operation log: mobilenet_1.00_224_edgetpu.log\n",
            "See the operation log file for individual operation details.\n",
            "Compilation child process completed within timeout period.\n",
            "Compilation succeeded! \n",
            "\n",
            "Edge TPU Compiler version 16.0.384591198\n",
            "Input: mobilenet_1.00_224.tflite\n",
            "Output: mobilenet_1.00_224_edgetpu.tflite\n",
            "\n",
            "Operator                       Count      Status\n",
            "\n",
            "SOFTMAX                        1          Mapped to Edge TPU\n",
            "PAD                            5          Mapped to Edge TPU\n",
            "MEAN                           1          Mapped to Edge TPU\n",
            "RESHAPE                        2          Mapped to Edge TPU\n",
            "CONV_2D                        15         Mapped to Edge TPU\n",
            "DEPTHWISE_CONV_2D              13         Mapped to Edge TPU\n",
            "QUANTIZE                       2          Mapped to Edge TPU\n",
            "\n",
            "CPU times: user 24.4 s, sys: 672 ms, total: 25.1 s\n",
            "Wall time: 25.4 s\n"
          ],
          "name": "stdout"
        }
      ]
    },
    {
      "cell_type": "code",
      "metadata": {
        "colab": {
          "base_uri": "https://localhost:8080/"
        },
        "id": "4rzJXadrIU98",
        "outputId": "eb701797-7a23-470a-f8e0-2f97cbdfb267"
      },
      "source": [
        "%time testEdgeTPUCompilation(DenseNet121, None)"
      ],
      "execution_count": 17,
      "outputs": [
        {
          "output_type": "stream",
          "text": [
            "Model name: densenet121\n",
            "Input shape\n",
            "WARNING:tensorflow:No training configuration found in save file: the model was *not* compiled. Compile it manually.\n",
            "INFO:tensorflow:Froze 606 variables.\n",
            "INFO:tensorflow:Converted 606 variables to const ops.\n",
            "Edge TPU Compiler version 16.0.384591198\n",
            "Started a compilation timeout timer of 180 seconds.\n",
            "\n",
            "Model compiled successfully in 4392 ms.\n",
            "\n",
            "Input model: densenet121.tflite\n",
            "Input size: 7.95MiB\n",
            "Output model: densenet121_edgetpu.tflite\n",
            "Output size: 9.34MiB\n",
            "On-chip memory used for caching model parameters: 7.04MiB\n",
            "On-chip memory remaining for caching model parameters: 0.00B\n",
            "Off-chip memory used for streaming uncached model parameters: 2.98MiB\n",
            "Number of Edge TPU subgraphs: 1\n",
            "Total number of operations: 384\n",
            "Operation log: densenet121_edgetpu.log\n",
            "See the operation log file for individual operation details.\n",
            "Compilation child process completed within timeout period.\n",
            "Compilation succeeded! \n",
            "\n",
            "Edge TPU Compiler version 16.0.384591198\n",
            "Input: densenet121.tflite\n",
            "Output: densenet121_edgetpu.tflite\n",
            "\n",
            "Operator                       Count      Status\n",
            "\n",
            "MAX_POOL_2D                    1          Mapped to Edge TPU\n",
            "CONCATENATION                  58         Mapped to Edge TPU\n",
            "PAD                            2          Mapped to Edge TPU\n",
            "MEAN                           1          Mapped to Edge TPU\n",
            "SOFTMAX                        1          Mapped to Edge TPU\n",
            "AVERAGE_POOL_2D                3          Mapped to Edge TPU\n",
            "MUL                            62         Mapped to Edge TPU\n",
            "QUANTIZE                       73         Mapped to Edge TPU\n",
            "CONV_2D                        120        Mapped to Edge TPU\n",
            "FULLY_CONNECTED                1          Mapped to Edge TPU\n",
            "ADD                            62         Mapped to Edge TPU\n",
            "\n",
            "CPU times: user 2min 24s, sys: 3.03 s, total: 2min 27s\n",
            "Wall time: 2min 16s\n"
          ],
          "name": "stdout"
        }
      ]
    },
    {
      "cell_type": "code",
      "metadata": {
        "colab": {
          "base_uri": "https://localhost:8080/"
        },
        "id": "ElF1NNXGIXKp",
        "outputId": "db67c22e-a08b-41cf-c799-d82f8f8fe671"
      },
      "source": [
        "%time testEdgeTPUCompilation(DenseNet169, None)"
      ],
      "execution_count": 18,
      "outputs": [
        {
          "output_type": "stream",
          "text": [
            "Downloading data from https://github.com/keras-team/keras-applications/releases/download/densenet/densenet169_weights_tf_dim_ordering_tf_kernels.h5\n",
            "58548224/58541896 [==============================] - 1s 0us/step\n",
            "Model name: densenet169\n",
            "Input shape\n",
            "WARNING:tensorflow:No training configuration found in save file: the model was *not* compiled. Compile it manually.\n",
            "INFO:tensorflow:Froze 846 variables.\n",
            "INFO:tensorflow:Converted 846 variables to const ops.\n",
            "Edge TPU Compiler version 16.0.384591198\n",
            "Started a compilation timeout timer of 180 seconds.\n",
            "\n",
            "Model compiled successfully in 7514 ms.\n",
            "\n",
            "Input model: densenet169.tflite\n",
            "Input size: 13.97MiB\n",
            "Output model: densenet169_edgetpu.tflite\n",
            "Output size: 16.51MiB\n",
            "On-chip memory used for caching model parameters: 7.04MiB\n",
            "On-chip memory remaining for caching model parameters: 1.50KiB\n",
            "Off-chip memory used for streaming uncached model parameters: 8.59MiB\n",
            "Number of Edge TPU subgraphs: 1\n",
            "Total number of operations: 533\n",
            "Operation log: densenet169_edgetpu.log\n",
            "See the operation log file for individual operation details.\n",
            "Compilation child process completed within timeout period.\n",
            "Compilation succeeded! \n",
            "\n",
            "Edge TPU Compiler version 16.0.384591198\n",
            "Input: densenet169.tflite\n",
            "Output: densenet169_edgetpu.tflite\n",
            "\n",
            "Operator                       Count      Status\n",
            "\n",
            "ADD                            86         Mapped to Edge TPU\n",
            "MAX_POOL_2D                    1          Mapped to Edge TPU\n",
            "CONCATENATION                  82         Mapped to Edge TPU\n",
            "PAD                            2          Mapped to Edge TPU\n",
            "MEAN                           1          Mapped to Edge TPU\n",
            "SOFTMAX                        1          Mapped to Edge TPU\n",
            "AVERAGE_POOL_2D                3          Mapped to Edge TPU\n",
            "MUL                            86         Mapped to Edge TPU\n",
            "QUANTIZE                       102        Mapped to Edge TPU\n",
            "CONV_2D                        168        Mapped to Edge TPU\n",
            "FULLY_CONNECTED                1          Mapped to Edge TPU\n",
            "\n",
            "CPU times: user 3min 56s, sys: 5.06 s, total: 4min 1s\n",
            "Wall time: 3min 52s\n"
          ],
          "name": "stdout"
        }
      ]
    },
    {
      "cell_type": "code",
      "metadata": {
        "colab": {
          "base_uri": "https://localhost:8080/"
        },
        "id": "ERkBwKVYIp7B",
        "outputId": "225fa4af-59d5-4311-dae6-a6535543e67e"
      },
      "source": [
        "%time testEdgeTPUCompilation(DenseNet201, None)"
      ],
      "execution_count": 19,
      "outputs": [
        {
          "output_type": "stream",
          "text": [
            "Downloading data from https://github.com/keras-team/keras-applications/releases/download/densenet/densenet201_weights_tf_dim_ordering_tf_kernels.h5\n",
            "82526208/82524592 [==============================] - 1s 0us/step\n",
            "Model name: densenet201\n",
            "Input shape\n",
            "WARNING:tensorflow:No training configuration found in save file: the model was *not* compiled. Compile it manually.\n",
            "INFO:tensorflow:Froze 1006 variables.\n",
            "INFO:tensorflow:Converted 1006 variables to const ops.\n",
            "Edge TPU Compiler version 16.0.384591198\n",
            "Started a compilation timeout timer of 180 seconds.\n",
            "\n",
            "Model compiled successfully in 9801 ms.\n",
            "\n",
            "Input model: densenet201.tflite\n",
            "Input size: 19.65MiB\n",
            "Output model: densenet201_edgetpu.tflite\n",
            "Output size: 23.27MiB\n",
            "On-chip memory used for caching model parameters: 7.04MiB\n",
            "On-chip memory remaining for caching model parameters: 2.00KiB\n",
            "Off-chip memory used for streaming uncached model parameters: 15.17MiB\n",
            "Number of Edge TPU subgraphs: 1\n",
            "Total number of operations: 622\n",
            "Operation log: densenet201_edgetpu.log\n",
            "See the operation log file for individual operation details.\n",
            "Compilation child process completed within timeout period.\n",
            "Compilation succeeded! \n",
            "\n",
            "Edge TPU Compiler version 16.0.384591198\n",
            "Input: densenet201.tflite\n",
            "Output: densenet201_edgetpu.tflite\n",
            "\n",
            "Operator                       Count      Status\n",
            "\n",
            "PAD                            2          Mapped to Edge TPU\n",
            "CONCATENATION                  98         Mapped to Edge TPU\n",
            "MAX_POOL_2D                    1          Mapped to Edge TPU\n",
            "ADD                            102        Mapped to Edge TPU\n",
            "SOFTMAX                        1          Mapped to Edge TPU\n",
            "MEAN                           1          Mapped to Edge TPU\n",
            "CONV_2D                        200        Mapped to Edge TPU\n",
            "MUL                            102        Mapped to Edge TPU\n",
            "QUANTIZE                       111        Mapped to Edge TPU\n",
            "AVERAGE_POOL_2D                3          Mapped to Edge TPU\n",
            "FULLY_CONNECTED                1          Mapped to Edge TPU\n",
            "\n",
            "CPU times: user 5min 23s, sys: 7.05 s, total: 5min 30s\n",
            "Wall time: 5min 19s\n"
          ],
          "name": "stdout"
        }
      ]
    },
    {
      "cell_type": "code",
      "metadata": {
        "colab": {
          "base_uri": "https://localhost:8080/"
        },
        "id": "f8JHf1g3IsIB",
        "outputId": "69f298ed-a274-4668-a8fe-fd12e441d867"
      },
      "source": [
        "%time testEdgeTPUCompilation(InceptionResNetV2, None)"
      ],
      "execution_count": 20,
      "outputs": [
        {
          "output_type": "stream",
          "text": [
            "Downloading data from https://github.com/fchollet/deep-learning-models/releases/download/v0.7/inception_resnet_v2_weights_tf_dim_ordering_tf_kernels.h5\n",
            "225214464/225209952 [==============================] - 6s 0us/step\n",
            "Model name: inception_resnet_v2\n",
            "Input shape\n",
            "WARNING:tensorflow:No training configuration found in save file: the model was *not* compiled. Compile it manually.\n",
            "INFO:tensorflow:Froze 898 variables.\n",
            "INFO:tensorflow:Converted 898 variables to const ops.\n",
            "Edge TPU Compiler version 16.0.384591198\n",
            "Started a compilation timeout timer of 180 seconds.\n",
            "\n",
            "Model compiled successfully in 12451 ms.\n",
            "\n",
            "Input model: inception_resnet_v2.tflite\n",
            "Input size: 55.31MiB\n",
            "Output model: inception_resnet_v2_edgetpu.tflite\n",
            "Output size: 55.86MiB\n",
            "On-chip memory used for caching model parameters: 5.52MiB\n",
            "On-chip memory remaining for caching model parameters: 2.50KiB\n",
            "Off-chip memory used for streaming uncached model parameters: 49.61MiB\n",
            "Number of Edge TPU subgraphs: 1\n",
            "Total number of operations: 395\n",
            "Operation log: inception_resnet_v2_edgetpu.log\n",
            "See the operation log file for individual operation details.\n",
            "Compilation child process completed within timeout period.\n",
            "Compilation succeeded! \n",
            "\n",
            "Edge TPU Compiler version 16.0.384591198\n",
            "Input: inception_resnet_v2.tflite\n",
            "Output: inception_resnet_v2_edgetpu.tflite\n",
            "\n",
            "Operator                       Count      Status\n",
            "\n",
            "CONCATENATION                  43         Mapped to Edge TPU\n",
            "FULLY_CONNECTED                1          Mapped to Edge TPU\n",
            "ADD                            40         Mapped to Edge TPU\n",
            "MAX_POOL_2D                    4          Mapped to Edge TPU\n",
            "MEAN                           1          Mapped to Edge TPU\n",
            "QUANTIZE                       60         Mapped to Edge TPU\n",
            "SOFTMAX                        1          Mapped to Edge TPU\n",
            "CONV_2D                        244        Mapped to Edge TPU\n",
            "AVERAGE_POOL_2D                1          Mapped to Edge TPU\n",
            "\n",
            "CPU times: user 7min 15s, sys: 10.3 s, total: 7min 26s\n",
            "Wall time: 6min 26s\n"
          ],
          "name": "stdout"
        }
      ]
    },
    {
      "cell_type": "code",
      "metadata": {
        "colab": {
          "base_uri": "https://localhost:8080/"
        },
        "id": "bQ923OgBItox",
        "outputId": "f1dd161b-be1d-49d9-d291-abba2a00bc9f"
      },
      "source": [
        "%time testEdgeTPUCompilation(InceptionV3, None)"
      ],
      "execution_count": 21,
      "outputs": [
        {
          "output_type": "stream",
          "text": [
            "Downloading data from https://github.com/fchollet/deep-learning-models/releases/download/v0.5/inception_v3_weights_tf_dim_ordering_tf_kernels.h5\n",
            "96116736/96112376 [==============================] - 2s 0us/step\n",
            "Model name: inception_v3\n",
            "Input shape\n",
            "WARNING:tensorflow:No training configuration found in save file: the model was *not* compiled. Compile it manually.\n",
            "INFO:tensorflow:Froze 378 variables.\n",
            "INFO:tensorflow:Converted 378 variables to const ops.\n",
            "Edge TPU Compiler version 16.0.384591198\n",
            "Started a compilation timeout timer of 180 seconds.\n",
            "\n",
            "Model compiled successfully in 5223 ms.\n",
            "\n",
            "Input model: inception_v3.tflite\n",
            "Input size: 23.21MiB\n",
            "Output model: inception_v3_edgetpu.tflite\n",
            "Output size: 23.99MiB\n",
            "On-chip memory used for caching model parameters: 5.53MiB\n",
            "On-chip memory remaining for caching model parameters: 256.00B\n",
            "Off-chip memory used for streaming uncached model parameters: 17.97MiB\n",
            "Number of Edge TPU subgraphs: 1\n",
            "Total number of operations: 162\n",
            "Operation log: inception_v3_edgetpu.log\n",
            "See the operation log file for individual operation details.\n",
            "Compilation child process completed within timeout period.\n",
            "Compilation succeeded! \n",
            "\n",
            "Edge TPU Compiler version 16.0.384591198\n",
            "Input: inception_v3.tflite\n",
            "Output: inception_v3_edgetpu.tflite\n",
            "\n",
            "Operator                       Count      Status\n",
            "\n",
            "FULLY_CONNECTED                1          Mapped to Edge TPU\n",
            "CONCATENATION                  15         Mapped to Edge TPU\n",
            "MAX_POOL_2D                    4          Mapped to Edge TPU\n",
            "SOFTMAX                        1          Mapped to Edge TPU\n",
            "CONV_2D                        94         Mapped to Edge TPU\n",
            "MEAN                           1          Mapped to Edge TPU\n",
            "QUANTIZE                       37         Mapped to Edge TPU\n",
            "AVERAGE_POOL_2D                9          Mapped to Edge TPU\n",
            "\n",
            "CPU times: user 2min 35s, sys: 3.58 s, total: 2min 38s\n",
            "Wall time: 2min 14s\n"
          ],
          "name": "stdout"
        }
      ]
    },
    {
      "cell_type": "code",
      "metadata": {
        "colab": {
          "base_uri": "https://localhost:8080/"
        },
        "id": "YazzPnRJIvEp",
        "outputId": "b332b926-e8e3-49b8-91c4-0015c9d87b7b"
      },
      "source": [
        "%time testEdgeTPUCompilation(NASNetLarge, None)"
      ],
      "execution_count": 22,
      "outputs": [
        {
          "output_type": "stream",
          "text": [
            "Downloading data from https://github.com/titu1994/Keras-NASNet/releases/download/v1.2/NASNet-large.h5\n",
            "359751680/359748576 [==============================] - 15s 0us/step\n",
            "Model name: NASNet\n",
            "Input shape\n",
            "WARNING:tensorflow:From /usr/local/lib/python3.7/dist-packages/tensorflow_core/python/ops/init_ops.py:97: calling VarianceScaling.__init__ (from tensorflow.python.ops.init_ops) with dtype is deprecated and will be removed in a future version.\n",
            "Instructions for updating:\n",
            "Call initializer instance with the dtype argument instead of passing it to the constructor\n",
            "WARNING:tensorflow:No training configuration found in save file: the model was *not* compiled. Compile it manually.\n",
            "INFO:tensorflow:Froze 1546 variables.\n",
            "INFO:tensorflow:Converted 1546 variables to const ops.\n",
            "Edge TPU Compiler version 16.0.384591198\n",
            "Started a compilation timeout timer of 180 seconds.\n",
            "\n",
            "Model compiled successfully in 558 ms.\n",
            "\n",
            "Input model: NASNet.tflite\n",
            "Input size: 88.37MiB\n",
            "Output model: NASNet_edgetpu.tflite\n",
            "Output size: 88.43MiB\n",
            "On-chip memory used for caching model parameters: 6.00KiB\n",
            "On-chip memory remaining for caching model parameters: 7.67MiB\n",
            "Off-chip memory used for streaming uncached model parameters: 0.00B\n",
            "Number of Edge TPU subgraphs: 1\n",
            "Total number of operations: 1333\n",
            "Operation log: NASNet_edgetpu.log\n",
            "\n",
            "Model successfully compiled but not all operations are supported by the Edge TPU. A percentage of the model will instead run on the CPU, which is slower. If possible, consider updating your model to use only operations supported by the Edge TPU. For details, visit g.co/coral/model-reqs.\n",
            "Number of operations that will run on Edge TPU: 2\n",
            "Number of operations that will run on CPU: 1331\n",
            "See the operation log file for individual operation details.\n",
            "Compilation child process completed within timeout period.\n",
            "Compilation succeeded! \n",
            "\n",
            "Edge TPU Compiler version 16.0.384591198\n",
            "Input: NASNet.tflite\n",
            "Output: NASNet_edgetpu.tflite\n",
            "\n",
            "Operator                       Count      Status\n",
            "\n",
            "MEAN                           1          More than one subgraph is not supported\n",
            "PAD                            24         More than one subgraph is not supported\n",
            "ADD                            114        More than one subgraph is not supported\n",
            "MAX_POOL_2D                    8          More than one subgraph is not supported\n",
            "QUANTIZE                       1          Mapped to Edge TPU\n",
            "QUANTIZE                       116        More than one subgraph is not supported\n",
            "QUANTIZE                       163        Operation is otherwise supported, but not mapped due to some unspecified limitation\n",
            "FULLY_CONNECTED                1          More than one subgraph is not supported\n",
            "CONV_2D                        1          Mapped to Edge TPU\n",
            "CONV_2D                        267        More than one subgraph is not supported\n",
            "DEQUANTIZE                     158        Operation is working on an unsupported data type\n",
            "SOFTMAX                        1          More than one subgraph is not supported\n",
            "CONCATENATION                  26         More than one subgraph is not supported\n",
            "RELU                           154        Operation is working on an unsupported data type\n",
            "STRIDED_SLICE                  4          Operation is working on an unsupported data type\n",
            "MUL                            4          More than one subgraph is not supported\n",
            "AVERAGE_POOL_2D                70         More than one subgraph is not supported\n",
            "DEPTHWISE_CONV_2D              220        More than one subgraph is not supported\n",
            "\n",
            "CPU times: user 13min 52s, sys: 16.9 s, total: 14min 8s\n",
            "Wall time: 12min 13s\n"
          ],
          "name": "stdout"
        }
      ]
    },
    {
      "cell_type": "code",
      "metadata": {
        "colab": {
          "base_uri": "https://localhost:8080/"
        },
        "id": "nkMuLQsxIw-Q",
        "outputId": "87b0b973-277b-4c34-e160-7500b13e94c5"
      },
      "source": [
        "%time testEdgeTPUCompilation(NASNetMobile, None)"
      ],
      "execution_count": 23,
      "outputs": [
        {
          "output_type": "stream",
          "text": [
            "Downloading data from https://github.com/titu1994/Keras-NASNet/releases/download/v1.2/NASNet-mobile.h5\n",
            "24231936/24227760 [==============================] - 0s 0us/step\n",
            "Model name: NASNet\n",
            "Input shape\n",
            "WARNING:tensorflow:No training configuration found in save file: the model was *not* compiled. Compile it manually.\n",
            "INFO:tensorflow:Froze 1126 variables.\n",
            "INFO:tensorflow:Converted 1126 variables to const ops.\n",
            "Edge TPU Compiler version 16.0.384591198\n",
            "Started a compilation timeout timer of 180 seconds.\n",
            "\n",
            "Model compiled successfully in 98 ms.\n",
            "\n",
            "Input model: NASNet.tflite\n",
            "Input size: 5.94MiB\n",
            "Output model: NASNet_edgetpu.tflite\n",
            "Output size: 5.96MiB\n",
            "On-chip memory used for caching model parameters: 3.00KiB\n",
            "On-chip memory remaining for caching model parameters: 7.90MiB\n",
            "Off-chip memory used for streaming uncached model parameters: 0.00B\n",
            "Number of Edge TPU subgraphs: 1\n",
            "Total number of operations: 991\n",
            "Operation log: NASNet_edgetpu.log\n",
            "\n",
            "Model successfully compiled but not all operations are supported by the Edge TPU. A percentage of the model will instead run on the CPU, which is slower. If possible, consider updating your model to use only operations supported by the Edge TPU. For details, visit g.co/coral/model-reqs.\n",
            "Number of operations that will run on Edge TPU: 2\n",
            "Number of operations that will run on CPU: 989\n",
            "See the operation log file for individual operation details.\n",
            "Compilation child process completed within timeout period.\n",
            "Compilation succeeded! \n",
            "\n",
            "Edge TPU Compiler version 16.0.384591198\n",
            "Input: NASNet.tflite\n",
            "Output: NASNet_edgetpu.tflite\n",
            "\n",
            "Operator                       Count      Status\n",
            "\n",
            "MAX_POOL_2D                    8          More than one subgraph is not supported\n",
            "DEQUANTIZE                     116        Operation is working on an unsupported data type\n",
            "QUANTIZE                       1          Mapped to Edge TPU\n",
            "QUANTIZE                       121        Operation is otherwise supported, but not mapped due to some unspecified limitation\n",
            "QUANTIZE                       86         More than one subgraph is not supported\n",
            "AVERAGE_POOL_2D                52         More than one subgraph is not supported\n",
            "PAD                            24         More than one subgraph is not supported\n",
            "RELU                           112        Operation is working on an unsupported data type\n",
            "ADD                            84         More than one subgraph is not supported\n",
            "MEAN                           1          More than one subgraph is not supported\n",
            "STRIDED_SLICE                  4          Operation is working on an unsupported data type\n",
            "MUL                            4          More than one subgraph is not supported\n",
            "SOFTMAX                        1          More than one subgraph is not supported\n",
            "DEPTHWISE_CONV_2D              160        More than one subgraph is not supported\n",
            "CONV_2D                        1          Mapped to Edge TPU\n",
            "CONV_2D                        195        More than one subgraph is not supported\n",
            "CONCATENATION                  20         More than one subgraph is not supported\n",
            "FULLY_CONNECTED                1          More than one subgraph is not supported\n",
            "\n",
            "CPU times: user 5min 9s, sys: 7.68 s, total: 5min 17s\n",
            "Wall time: 5min 17s\n"
          ],
          "name": "stdout"
        }
      ]
    },
    {
      "cell_type": "code",
      "metadata": {
        "colab": {
          "base_uri": "https://localhost:8080/"
        },
        "id": "Y-8DnVAtIyC4",
        "outputId": "9f82e8f7-518b-4060-8d93-3825cd800601"
      },
      "source": [
        "%time testEdgeTPUCompilation(ResNet101, None)"
      ],
      "execution_count": 24,
      "outputs": [
        {
          "output_type": "stream",
          "text": [
            "Downloading data from https://github.com/keras-team/keras-applications/releases/download/resnet/resnet101_weights_tf_dim_ordering_tf_kernels.h5\n",
            "179650560/179648224 [==============================] - 3s 0us/step\n",
            "Model name: resnet101\n",
            "Input shape\n",
            "WARNING:tensorflow:No training configuration found in save file: the model was *not* compiled. Compile it manually.\n",
            "INFO:tensorflow:Froze 626 variables.\n",
            "INFO:tensorflow:Converted 626 variables to const ops.\n",
            "Edge TPU Compiler version 16.0.384591198\n",
            "Started a compilation timeout timer of 180 seconds.\n",
            "\n",
            "Model compiled successfully in 9061 ms.\n",
            "\n",
            "Input model: resnet101.tflite\n",
            "Input size: 43.85MiB\n",
            "Output model: resnet101_edgetpu.tflite\n",
            "Output size: 43.43MiB\n",
            "On-chip memory used for caching model parameters: 7.14MiB\n",
            "On-chip memory remaining for caching model parameters: 512.00B\n",
            "Off-chip memory used for streaming uncached model parameters: 35.90MiB\n",
            "Number of Edge TPU subgraphs: 1\n",
            "Total number of operations: 145\n",
            "Operation log: resnet101_edgetpu.log\n",
            "See the operation log file for individual operation details.\n",
            "Compilation child process completed within timeout period.\n",
            "Compilation succeeded! \n",
            "\n",
            "Edge TPU Compiler version 16.0.384591198\n",
            "Input: resnet101.tflite\n",
            "Output: resnet101_edgetpu.tflite\n",
            "\n",
            "Operator                       Count      Status\n",
            "\n",
            "MEAN                           1          Mapped to Edge TPU\n",
            "CONV_2D                        104        Mapped to Edge TPU\n",
            "QUANTIZE                       2          Mapped to Edge TPU\n",
            "FULLY_CONNECTED                1          Mapped to Edge TPU\n",
            "PAD                            2          Mapped to Edge TPU\n",
            "MAX_POOL_2D                    1          Mapped to Edge TPU\n",
            "ADD                            33         Mapped to Edge TPU\n",
            "SOFTMAX                        1          Mapped to Edge TPU\n",
            "\n",
            "CPU times: user 3min 47s, sys: 5.72 s, total: 3min 52s\n",
            "Wall time: 3min 21s\n"
          ],
          "name": "stdout"
        }
      ]
    },
    {
      "cell_type": "code",
      "metadata": {
        "colab": {
          "base_uri": "https://localhost:8080/"
        },
        "id": "O6k-E54zI0AA",
        "outputId": "00f1e1c9-098f-4221-e137-9fb005a5203a"
      },
      "source": [
        "%time testEdgeTPUCompilation(ResNet101V2, None)"
      ],
      "execution_count": 25,
      "outputs": [
        {
          "output_type": "stream",
          "text": [
            "Downloading data from https://github.com/keras-team/keras-applications/releases/download/resnet/resnet101v2_weights_tf_dim_ordering_tf_kernels.h5\n",
            "179519488/179518384 [==============================] - 2s 0us/step\n",
            "Model name: resnet101v2\n",
            "Input shape\n",
            "WARNING:tensorflow:No training configuration found in save file: the model was *not* compiled. Compile it manually.\n",
            "INFO:tensorflow:Froze 544 variables.\n",
            "INFO:tensorflow:Converted 544 variables to const ops.\n",
            "Edge TPU Compiler version 16.0.384591198\n",
            "Started a compilation timeout timer of 180 seconds.\n",
            "\n",
            "Model compiled successfully in 9854 ms.\n",
            "\n",
            "Input model: resnet101v2.tflite\n",
            "Input size: 43.94MiB\n",
            "Output model: resnet101v2_edgetpu.tflite\n",
            "Output size: 44.43MiB\n",
            "On-chip memory used for caching model parameters: 6.60MiB\n",
            "On-chip memory remaining for caching model parameters: 1.00KiB\n",
            "Off-chip memory used for streaming uncached model parameters: 37.36MiB\n",
            "Number of Edge TPU subgraphs: 1\n",
            "Total number of operations: 249\n",
            "Operation log: resnet101v2_edgetpu.log\n",
            "See the operation log file for individual operation details.\n",
            "Compilation child process completed within timeout period.\n",
            "Compilation succeeded! \n",
            "\n",
            "Edge TPU Compiler version 16.0.384591198\n",
            "Input: resnet101v2.tflite\n",
            "Output: resnet101v2_edgetpu.tflite\n",
            "\n",
            "Operator                       Count      Status\n",
            "\n",
            "SOFTMAX                        1          Mapped to Edge TPU\n",
            "MEAN                           1          Mapped to Edge TPU\n",
            "PAD                            35         Mapped to Edge TPU\n",
            "MAX_POOL_2D                    4          Mapped to Edge TPU\n",
            "ADD                            67         Mapped to Edge TPU\n",
            "FULLY_CONNECTED                1          Mapped to Edge TPU\n",
            "CONV_2D                        104        Mapped to Edge TPU\n",
            "QUANTIZE                       2          Mapped to Edge TPU\n",
            "MUL                            34         Mapped to Edge TPU\n",
            "\n",
            "CPU times: user 3min 30s, sys: 5.2 s, total: 3min 35s\n",
            "Wall time: 3min 6s\n"
          ],
          "name": "stdout"
        }
      ]
    },
    {
      "cell_type": "code",
      "metadata": {
        "colab": {
          "base_uri": "https://localhost:8080/"
        },
        "id": "d5_pGzgMI11I",
        "outputId": "da6ff9f7-d100-4d49-e4fc-ecf001750661"
      },
      "source": [
        "%time testEdgeTPUCompilation(ResNet152, None)"
      ],
      "execution_count": 26,
      "outputs": [
        {
          "output_type": "stream",
          "text": [
            "Downloading data from https://github.com/keras-team/keras-applications/releases/download/resnet/resnet152_weights_tf_dim_ordering_tf_kernels.h5\n",
            "242900992/242900224 [==============================] - 3s 0us/step\n",
            "Model name: resnet152\n",
            "Input shape\n",
            "WARNING:tensorflow:No training configuration found in save file: the model was *not* compiled. Compile it manually.\n",
            "INFO:tensorflow:Froze 932 variables.\n",
            "INFO:tensorflow:Converted 932 variables to const ops.\n",
            "Edge TPU Compiler version 16.0.384591198\n",
            "Started a compilation timeout timer of 180 seconds.\n",
            "\n",
            "Model compiled successfully in 12408 ms.\n",
            "\n",
            "Input model: resnet152.tflite\n",
            "Input size: 59.36MiB\n",
            "Output model: resnet152_edgetpu.tflite\n",
            "Output size: 58.71MiB\n",
            "On-chip memory used for caching model parameters: 7.14MiB\n",
            "On-chip memory remaining for caching model parameters: 512.00B\n",
            "Off-chip memory used for streaming uncached model parameters: 51.04MiB\n",
            "Number of Edge TPU subgraphs: 1\n",
            "Total number of operations: 213\n",
            "Operation log: resnet152_edgetpu.log\n",
            "See the operation log file for individual operation details.\n",
            "Compilation child process completed within timeout period.\n",
            "Compilation succeeded! \n",
            "\n",
            "Edge TPU Compiler version 16.0.384591198\n",
            "Input: resnet152.tflite\n",
            "Output: resnet152_edgetpu.tflite\n",
            "\n",
            "Operator                       Count      Status\n",
            "\n",
            "ADD                            50         Mapped to Edge TPU\n",
            "SOFTMAX                        1          Mapped to Edge TPU\n",
            "CONV_2D                        155        Mapped to Edge TPU\n",
            "MEAN                           1          Mapped to Edge TPU\n",
            "QUANTIZE                       2          Mapped to Edge TPU\n",
            "FULLY_CONNECTED                1          Mapped to Edge TPU\n",
            "PAD                            2          Mapped to Edge TPU\n",
            "MAX_POOL_2D                    1          Mapped to Edge TPU\n",
            "\n",
            "CPU times: user 5min 8s, sys: 7.51 s, total: 5min 16s\n",
            "Wall time: 4min 27s\n"
          ],
          "name": "stdout"
        }
      ]
    },
    {
      "cell_type": "code",
      "metadata": {
        "colab": {
          "base_uri": "https://localhost:8080/"
        },
        "id": "NGMbeFRiI4Dw",
        "outputId": "0f0713f1-6793-4ec4-ba31-891c28808f3e"
      },
      "source": [
        "%time testEdgeTPUCompilation(ResNet152V2, None)"
      ],
      "execution_count": 27,
      "outputs": [
        {
          "output_type": "stream",
          "text": [
            "Downloading data from https://github.com/keras-team/keras-applications/releases/download/resnet/resnet152v2_weights_tf_dim_ordering_tf_kernels.h5\n",
            "242753536/242745792 [==============================] - 4s 0us/step\n",
            "Model name: resnet152v2\n",
            "Input shape\n",
            "WARNING:tensorflow:No training configuration found in save file: the model was *not* compiled. Compile it manually.\n",
            "INFO:tensorflow:Froze 816 variables.\n",
            "INFO:tensorflow:Converted 816 variables to const ops.\n",
            "Edge TPU Compiler version 16.0.384591198\n",
            "Started a compilation timeout timer of 180 seconds.\n",
            "\n",
            "Model compiled successfully in 13632 ms.\n",
            "\n",
            "Input model: resnet152v2.tflite\n",
            "Input size: 59.50MiB\n",
            "Output model: resnet152v2_edgetpu.tflite\n",
            "Output size: 60.20MiB\n",
            "On-chip memory used for caching model parameters: 6.60MiB\n",
            "On-chip memory remaining for caching model parameters: 1.00KiB\n",
            "Off-chip memory used for streaming uncached model parameters: 52.94MiB\n",
            "Number of Edge TPU subgraphs: 1\n",
            "Total number of operations: 368\n",
            "Operation log: resnet152v2_edgetpu.log\n",
            "See the operation log file for individual operation details.\n",
            "Compilation child process completed within timeout period.\n",
            "Compilation succeeded! \n",
            "\n",
            "Edge TPU Compiler version 16.0.384591198\n",
            "Input: resnet152v2.tflite\n",
            "Output: resnet152v2_edgetpu.tflite\n",
            "\n",
            "Operator                       Count      Status\n",
            "\n",
            "ADD                            101        Mapped to Edge TPU\n",
            "MAX_POOL_2D                    4          Mapped to Edge TPU\n",
            "PAD                            52         Mapped to Edge TPU\n",
            "MEAN                           1          Mapped to Edge TPU\n",
            "SOFTMAX                        1          Mapped to Edge TPU\n",
            "MUL                            51         Mapped to Edge TPU\n",
            "QUANTIZE                       2          Mapped to Edge TPU\n",
            "CONV_2D                        155        Mapped to Edge TPU\n",
            "FULLY_CONNECTED                1          Mapped to Edge TPU\n",
            "\n",
            "CPU times: user 5min 50s, sys: 8.8 s, total: 5min 58s\n",
            "Wall time: 5min 13s\n"
          ],
          "name": "stdout"
        }
      ]
    },
    {
      "cell_type": "code",
      "metadata": {
        "colab": {
          "base_uri": "https://localhost:8080/"
        },
        "id": "DJmAbXlfI5xQ",
        "outputId": "94f68925-3e91-465f-c7eb-fad54aecd682"
      },
      "source": [
        "%time testEdgeTPUCompilation(ResNet50, None)"
      ],
      "execution_count": 28,
      "outputs": [
        {
          "output_type": "stream",
          "text": [
            "Downloading data from https://github.com/keras-team/keras-applications/releases/download/resnet/resnet50_weights_tf_dim_ordering_tf_kernels.h5\n",
            "102973440/102967424 [==============================] - 1s 0us/step\n",
            "Model name: resnet50\n",
            "Input shape\n",
            "WARNING:tensorflow:No training configuration found in save file: the model was *not* compiled. Compile it manually.\n",
            "INFO:tensorflow:Froze 320 variables.\n",
            "INFO:tensorflow:Converted 320 variables to const ops.\n",
            "Edge TPU Compiler version 16.0.384591198\n",
            "Started a compilation timeout timer of 180 seconds.\n",
            "\n",
            "Model compiled successfully in 5162 ms.\n",
            "\n",
            "Input model: resnet50.tflite\n",
            "Input size: 25.06MiB\n",
            "Output model: resnet50_edgetpu.tflite\n",
            "Output size: 24.91MiB\n",
            "On-chip memory used for caching model parameters: 7.14MiB\n",
            "On-chip memory remaining for caching model parameters: 512.00B\n",
            "Off-chip memory used for streaming uncached model parameters: 17.54MiB\n",
            "Number of Edge TPU subgraphs: 1\n",
            "Total number of operations: 77\n",
            "Operation log: resnet50_edgetpu.log\n",
            "See the operation log file for individual operation details.\n",
            "Compilation child process completed within timeout period.\n",
            "Compilation succeeded! \n",
            "\n",
            "Edge TPU Compiler version 16.0.384591198\n",
            "Input: resnet50.tflite\n",
            "Output: resnet50_edgetpu.tflite\n",
            "\n",
            "Operator                       Count      Status\n",
            "\n",
            "FULLY_CONNECTED                1          Mapped to Edge TPU\n",
            "QUANTIZE                       2          Mapped to Edge TPU\n",
            "CONV_2D                        53         Mapped to Edge TPU\n",
            "MEAN                           1          Mapped to Edge TPU\n",
            "PAD                            2          Mapped to Edge TPU\n",
            "SOFTMAX                        1          Mapped to Edge TPU\n",
            "ADD                            16         Mapped to Edge TPU\n",
            "MAX_POOL_2D                    1          Mapped to Edge TPU\n",
            "\n",
            "CPU times: user 1min 47s, sys: 2.78 s, total: 1min 50s\n",
            "Wall time: 1min 34s\n"
          ],
          "name": "stdout"
        }
      ]
    },
    {
      "cell_type": "code",
      "metadata": {
        "colab": {
          "base_uri": "https://localhost:8080/"
        },
        "id": "F5C6HUByI9Lf",
        "outputId": "c162b861-20a6-4b5c-cd02-e1bf2bc62fce"
      },
      "source": [
        "%time testEdgeTPUCompilation(ResNet50V2, None)"
      ],
      "execution_count": 29,
      "outputs": [
        {
          "output_type": "stream",
          "text": [
            "Downloading data from https://github.com/keras-team/keras-applications/releases/download/resnet/resnet50v2_weights_tf_dim_ordering_tf_kernels.h5\n",
            "102875136/102869336 [==============================] - 1s 0us/step\n",
            "Model name: resnet50v2\n",
            "Input shape\n",
            "WARNING:tensorflow:No training configuration found in save file: the model was *not* compiled. Compile it manually.\n",
            "INFO:tensorflow:Froze 272 variables.\n",
            "INFO:tensorflow:Converted 272 variables to const ops.\n",
            "Edge TPU Compiler version 16.0.384591198\n",
            "Started a compilation timeout timer of 180 seconds.\n",
            "\n",
            "Model compiled successfully in 5537 ms.\n",
            "\n",
            "Input model: resnet50v2.tflite\n",
            "Input size: 25.11MiB\n",
            "Output model: resnet50v2_edgetpu.tflite\n",
            "Output size: 25.37MiB\n",
            "On-chip memory used for caching model parameters: 6.60MiB\n",
            "On-chip memory remaining for caching model parameters: 1.00KiB\n",
            "Off-chip memory used for streaming uncached model parameters: 18.49MiB\n",
            "Number of Edge TPU subgraphs: 1\n",
            "Total number of operations: 130\n",
            "Operation log: resnet50v2_edgetpu.log\n",
            "See the operation log file for individual operation details.\n",
            "Compilation child process completed within timeout period.\n",
            "Compilation succeeded! \n",
            "\n",
            "Edge TPU Compiler version 16.0.384591198\n",
            "Input: resnet50v2.tflite\n",
            "Output: resnet50v2_edgetpu.tflite\n",
            "\n",
            "Operator                       Count      Status\n",
            "\n",
            "FULLY_CONNECTED                1          Mapped to Edge TPU\n",
            "PAD                            18         Mapped to Edge TPU\n",
            "MAX_POOL_2D                    4          Mapped to Edge TPU\n",
            "ADD                            33         Mapped to Edge TPU\n",
            "SOFTMAX                        1          Mapped to Edge TPU\n",
            "CONV_2D                        53         Mapped to Edge TPU\n",
            "MEAN                           1          Mapped to Edge TPU\n",
            "MUL                            17         Mapped to Edge TPU\n",
            "QUANTIZE                       2          Mapped to Edge TPU\n",
            "\n",
            "CPU times: user 1min 36s, sys: 2.74 s, total: 1min 38s\n",
            "Wall time: 1min 25s\n"
          ],
          "name": "stdout"
        }
      ]
    },
    {
      "cell_type": "code",
      "metadata": {
        "colab": {
          "base_uri": "https://localhost:8080/"
        },
        "id": "CD3mx18oI-QZ",
        "outputId": "aa63484f-fbd5-4aac-c51e-d90aa73f5046"
      },
      "source": [
        "%time testEdgeTPUCompilation(VGG16, None)"
      ],
      "execution_count": 30,
      "outputs": [
        {
          "output_type": "stream",
          "text": [
            "Downloading data from https://github.com/fchollet/deep-learning-models/releases/download/v0.1/vgg16_weights_tf_dim_ordering_tf_kernels.h5\n",
            "553467904/553467096 [==============================] - 9s 0us/step\n",
            "Model name: vgg16\n",
            "Input shape\n",
            "WARNING:tensorflow:No training configuration found in save file: the model was *not* compiled. Compile it manually.\n",
            "INFO:tensorflow:Froze 32 variables.\n",
            "INFO:tensorflow:Converted 32 variables to const ops.\n",
            "Edge TPU Compiler version 16.0.384591198\n",
            "Started a compilation timeout timer of 180 seconds.\n",
            "\n",
            "Model compiled successfully in 23654 ms.\n",
            "\n",
            "Input model: vgg16.tflite\n",
            "Input size: 132.09MiB\n",
            "Output model: vgg16_edgetpu.tflite\n",
            "Output size: 132.32MiB\n",
            "On-chip memory used for caching model parameters: 5.33MiB\n",
            "On-chip memory remaining for caching model parameters: 170.25KiB\n",
            "Off-chip memory used for streaming uncached model parameters: 126.78MiB\n",
            "Number of Edge TPU subgraphs: 1\n",
            "Total number of operations: 24\n",
            "Operation log: vgg16_edgetpu.log\n",
            "See the operation log file for individual operation details.\n",
            "Compilation child process completed within timeout period.\n",
            "Compilation succeeded! \n",
            "\n",
            "Edge TPU Compiler version 16.0.384591198\n",
            "Input: vgg16.tflite\n",
            "Output: vgg16_edgetpu.tflite\n",
            "\n",
            "Operator                       Count      Status\n",
            "\n",
            "SOFTMAX                        1          Mapped to Edge TPU\n",
            "FULLY_CONNECTED                3          Mapped to Edge TPU\n",
            "CONV_2D                        13         Mapped to Edge TPU\n",
            "QUANTIZE                       2          Mapped to Edge TPU\n",
            "MAX_POOL_2D                    5          Mapped to Edge TPU\n",
            "\n",
            "CPU times: user 3min 23s, sys: 8 s, total: 3min 31s\n",
            "Wall time: 2min 46s\n"
          ],
          "name": "stdout"
        }
      ]
    },
    {
      "cell_type": "code",
      "metadata": {
        "colab": {
          "base_uri": "https://localhost:8080/"
        },
        "id": "4msBNTxkJAFA",
        "outputId": "7540c6de-5cbd-48a3-d8fc-9c08d49a4230"
      },
      "source": [
        "%time testEdgeTPUCompilation(VGG19, None)"
      ],
      "execution_count": 31,
      "outputs": [
        {
          "output_type": "stream",
          "text": [
            "Downloading data from https://github.com/fchollet/deep-learning-models/releases/download/v0.1/vgg19_weights_tf_dim_ordering_tf_kernels.h5\n",
            "574717952/574710816 [==============================] - 12s 0us/step\n",
            "Model name: vgg19\n",
            "Input shape\n",
            "WARNING:tensorflow:No training configuration found in save file: the model was *not* compiled. Compile it manually.\n",
            "INFO:tensorflow:Froze 38 variables.\n",
            "INFO:tensorflow:Converted 38 variables to const ops.\n",
            "Edge TPU Compiler version 16.0.384591198\n",
            "Started a compilation timeout timer of 180 seconds.\n",
            "\n",
            "Model compiled successfully in 24589 ms.\n",
            "\n",
            "Input model: vgg19.tflite\n",
            "Input size: 137.19MiB\n",
            "Output model: vgg19_edgetpu.tflite\n",
            "Output size: 137.41MiB\n",
            "On-chip memory used for caching model parameters: 5.33MiB\n",
            "On-chip memory remaining for caching model parameters: 170.25KiB\n",
            "Off-chip memory used for streaming uncached model parameters: 131.86MiB\n",
            "Number of Edge TPU subgraphs: 1\n",
            "Total number of operations: 27\n",
            "Operation log: vgg19_edgetpu.log\n",
            "See the operation log file for individual operation details.\n",
            "Compilation child process completed within timeout period.\n",
            "Compilation succeeded! \n",
            "\n",
            "Edge TPU Compiler version 16.0.384591198\n",
            "Input: vgg19.tflite\n",
            "Output: vgg19_edgetpu.tflite\n",
            "\n",
            "Operator                       Count      Status\n",
            "\n",
            "QUANTIZE                       2          Mapped to Edge TPU\n",
            "MAX_POOL_2D                    5          Mapped to Edge TPU\n",
            "SOFTMAX                        1          Mapped to Edge TPU\n",
            "FULLY_CONNECTED                3          Mapped to Edge TPU\n",
            "CONV_2D                        16         Mapped to Edge TPU\n",
            "\n",
            "CPU times: user 4min 10s, sys: 7.52 s, total: 4min 18s\n",
            "Wall time: 3min 13s\n"
          ],
          "name": "stdout"
        }
      ]
    },
    {
      "cell_type": "code",
      "metadata": {
        "colab": {
          "base_uri": "https://localhost:8080/"
        },
        "id": "W4nV22vmJB7A",
        "outputId": "6cc930f9-f03d-41cb-a001-b9e1f32fa4f5"
      },
      "source": [
        "%time testEdgeTPUCompilation(Xception, None)"
      ],
      "execution_count": 32,
      "outputs": [
        {
          "output_type": "stream",
          "text": [
            "Downloading data from https://github.com/fchollet/deep-learning-models/releases/download/v0.4/xception_weights_tf_dim_ordering_tf_kernels.h5\n",
            "91889664/91884032 [==============================] - 2s 0us/step\n",
            "Model name: xception\n",
            "Input shape\n",
            "WARNING:tensorflow:No training configuration found in save file: the model was *not* compiled. Compile it manually.\n",
            "INFO:tensorflow:Froze 236 variables.\n",
            "INFO:tensorflow:Converted 236 variables to const ops.\n",
            "Edge TPU Compiler version 16.0.384591198\n",
            "Started a compilation timeout timer of 180 seconds.\n",
            "\n",
            "Model compiled successfully in 534 ms.\n",
            "\n",
            "Input model: xception.tflite\n",
            "Input size: 22.84MiB\n",
            "Output model: xception_edgetpu.tflite\n",
            "Output size: 23.10MiB\n",
            "On-chip memory used for caching model parameters: 101.50KiB\n",
            "On-chip memory remaining for caching model parameters: 6.45MiB\n",
            "Off-chip memory used for streaming uncached model parameters: 0.00B\n",
            "Number of Edge TPU subgraphs: 1\n",
            "Total number of operations: 128\n",
            "Operation log: xception_edgetpu.log\n",
            "\n",
            "Model successfully compiled but not all operations are supported by the Edge TPU. A percentage of the model will instead run on the CPU, which is slower. If possible, consider updating your model to use only operations supported by the Edge TPU. For details, visit g.co/coral/model-reqs.\n",
            "Number of operations that will run on Edge TPU: 11\n",
            "Number of operations that will run on CPU: 117\n",
            "See the operation log file for individual operation details.\n",
            "Compilation child process completed within timeout period.\n",
            "Compilation succeeded! \n",
            "\n",
            "Edge TPU Compiler version 16.0.384591198\n",
            "Input: xception.tflite\n",
            "Output: xception_edgetpu.tflite\n",
            "\n",
            "Operator                       Count      Status\n",
            "\n",
            "SOFTMAX                        1          More than one subgraph is not supported\n",
            "MEAN                           1          More than one subgraph is not supported\n",
            "RELU                           11         Operation is working on an unsupported data type\n",
            "MAX_POOL_2D                    1          Mapped to Edge TPU\n",
            "MAX_POOL_2D                    3          More than one subgraph is not supported\n",
            "ADD                            11         More than one subgraph is not supported\n",
            "ADD                            1          Mapped to Edge TPU\n",
            "DEQUANTIZE                     11         Operation is working on an unsupported data type\n",
            "FULLY_CONNECTED                1          More than one subgraph is not supported\n",
            "CONV_2D                        34         More than one subgraph is not supported\n",
            "CONV_2D                        6          Mapped to Edge TPU\n",
            "QUANTIZE                       12         Operation is otherwise supported, but not mapped due to some unspecified limitation\n",
            "QUANTIZE                       1          Mapped to Edge TPU\n",
            "DEPTHWISE_CONV_2D              2          Mapped to Edge TPU\n",
            "DEPTHWISE_CONV_2D              32         More than one subgraph is not supported\n",
            "\n",
            "CPU times: user 2min 38s, sys: 3.16 s, total: 2min 42s\n",
            "Wall time: 1min 59s\n"
          ],
          "name": "stdout"
        }
      ]
    }
  ]
}